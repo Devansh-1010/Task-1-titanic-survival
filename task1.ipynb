{
 "cells": [
  {
   "cell_type": "code",
   "execution_count": 47,
   "id": "70ddee0a",
   "metadata": {
    "scrolled": true
   },
   "outputs": [],
   "source": [
    "import pandas as pd\n",
    "from sklearn.model_selection import train_test_split\n",
    "from sklearn.ensemble import RandomForestClassifier\n",
    "from sklearn.svm import SVC\n",
    "from sklearn.preprocessing import LabelEncoder\n",
    "from sklearn import tree\n",
    "from sklearn.linear_model import LogisticRegression"
   ]
  },
  {
   "cell_type": "code",
   "execution_count": 18,
   "id": "60fe519e",
   "metadata": {},
   "outputs": [],
   "source": [
    "titanic = pd.read_csv(\"titanic.csv\")\n",
    "columns_to_drop = ['PassengerId', 'Name', 'SibSp', 'Parch', 'Ticket', 'Cabin', 'Embarked']\n",
    "titanic.drop(columns=columns_to_drop, axis=1, inplace=True)"
   ]
  },
  {
   "cell_type": "code",
   "execution_count": 93,
   "id": "b8fdf91e",
   "metadata": {},
   "outputs": [
    {
     "name": "stdout",
     "output_type": "stream",
     "text": [
      "     Pclass     Sex   Age     Fare\n",
      "0         3    male  22.0   7.2500\n",
      "1         1  female  38.0  71.2833\n",
      "2         3  female  26.0   7.9250\n",
      "3         1  female  35.0  53.1000\n",
      "4         3    male  35.0   8.0500\n",
      "..      ...     ...   ...      ...\n",
      "886       2    male  27.0  13.0000\n",
      "887       1  female  19.0  30.0000\n",
      "888       3  female   NaN  23.4500\n",
      "889       1    male  26.0  30.0000\n",
      "890       3    male  32.0   7.7500\n",
      "\n",
      "[891 rows x 4 columns]\n",
      "***********************************\n",
      "0      0\n",
      "1      1\n",
      "2      1\n",
      "3      1\n",
      "4      0\n",
      "      ..\n",
      "886    0\n",
      "887    1\n",
      "888    0\n",
      "889    1\n",
      "890    0\n",
      "Name: Survived, Length: 891, dtype: int64\n"
     ]
    }
   ],
   "source": [
    "inputs = titanic.drop('Survived',axis='columns')\n",
    "target= titanic.Survived\n",
    "print(inputs)\n",
    "print(\"***********************************\")\n",
    "print(target)"
   ]
  },
  {
   "cell_type": "code",
   "execution_count": 23,
   "id": "f9066086",
   "metadata": {
    "scrolled": true
   },
   "outputs": [
    {
     "name": "stdout",
     "output_type": "stream",
     "text": [
      "     Pclass  Sex        Age     Fare\n",
      "0         3    1  22.000000   7.2500\n",
      "1         1    0  38.000000  71.2833\n",
      "2         3    0  26.000000   7.9250\n",
      "3         1    0  35.000000  53.1000\n",
      "4         3    1  35.000000   8.0500\n",
      "..      ...  ...        ...      ...\n",
      "886       2    1  27.000000  13.0000\n",
      "887       1    0  19.000000  30.0000\n",
      "888       3    0  29.699118  23.4500\n",
      "889       1    1  26.000000  30.0000\n",
      "890       3    1  32.000000   7.7500\n",
      "\n",
      "[891 rows x 4 columns]\n"
     ]
    }
   ],
   "source": [
    "le_Sex = LabelEncoder()\n",
    "inputs['Sex'] = le_Sex.fit_transform(inputs['Sex'])\n",
    "inputs['Age'] = inputs['Age'].fillna(inputs['Age'].mean())\n",
    "print(inputs)"
   ]
  },
  {
   "cell_type": "code",
   "execution_count": 52,
   "id": "38887355",
   "metadata": {},
   "outputs": [],
   "source": [
    "model1 = RandomForestClassifier(n_estimators=50)\n",
    "model2= SVC(kernel='rbf')\n",
    "model3=tree.DecisionTreeClassifier()\n",
    "model4=LogisticRegression()"
   ]
  },
  {
   "cell_type": "code",
   "execution_count": 87,
   "id": "ec0a24ce",
   "metadata": {},
   "outputs": [
    {
     "name": "stdout",
     "output_type": "stream",
     "text": [
      "RandomForest Average CV Score: 0.8137153976523759\n",
      "\n",
      "\n",
      "SVC Average CV Score: 0.6701462557278262\n",
      "\n",
      "\n",
      "DecisionTree Average CV Score: 0.7800954114619296\n",
      "\n",
      "\n",
      "LogisticRegression Average CV Score: 0.7867553825874082\n",
      "\n",
      "\n"
     ]
    }
   ],
   "source": [
    "# Evaluate models using cross-validation\n",
    "models = [model1, model2, model3, model4]\n",
    "model_names = ['RandomForest', 'SVC', 'DecisionTree', 'LogisticRegression']\n",
    "for model, name in zip(models, model_names):\n",
    "    scores = cross_val_score(model, inputs, target)\n",
    "    print(f\"{name} Average CV Score: {scores.mean()}\")\n",
    "    print(\"\\n\")"
   ]
  },
  {
   "cell_type": "markdown",
   "id": "dfa75cc8",
   "metadata": {},
   "source": [
    "**Split data for final evaluation on the test set for a final unbiased evaluation**\n"
   ]
  },
  {
   "cell_type": "code",
   "execution_count": 89,
   "id": "be80a8a1",
   "metadata": {},
   "outputs": [
    {
     "name": "stdout",
     "output_type": "stream",
     "text": [
      "RandomForest Test Accuracy: 0.8156424581005587\n",
      "\n",
      "\n",
      "SVC Test Accuracy: 0.6536312849162011\n",
      "\n",
      "\n",
      "DecisionTree Test Accuracy: 0.7541899441340782\n",
      "\n",
      "\n",
      "LogisticRegression Test Accuracy: 0.7988826815642458\n",
      "\n",
      "\n"
     ]
    }
   ],
   "source": [
    "X_train, X_test, Y_train, Y_test = train_test_split(inputs, target, test_size=0.2, random_state=42)\n",
    "\n",
    "for model, name in zip(models, model_names):\n",
    "    model.fit(X_train, Y_train)\n",
    "    print(f\"{name} Test Accuracy: {model.score(X_test,Y_test)}\")\n",
    "    print(\"\\n\")\n"
   ]
  },
  {
   "cell_type": "markdown",
   "id": "2512b24d",
   "metadata": {},
   "source": [
    "# **Clearly the best model for the prediction of titanic survival as far is Random forest with accuracy ≈ 81%** "
   ]
  }
 ],
 "metadata": {
  "kernelspec": {
   "display_name": "Python 3 (ipykernel)",
   "language": "python",
   "name": "python3"
  },
  "language_info": {
   "codemirror_mode": {
    "name": "ipython",
    "version": 3
   },
   "file_extension": ".py",
   "mimetype": "text/x-python",
   "name": "python",
   "nbconvert_exporter": "python",
   "pygments_lexer": "ipython3",
   "version": "3.9.12"
  }
 },
 "nbformat": 4,
 "nbformat_minor": 5
}
